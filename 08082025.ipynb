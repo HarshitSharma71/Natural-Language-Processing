{
  "nbformat": 4,
  "nbformat_minor": 0,
  "metadata": {
    "colab": {
      "provenance": [],
      "authorship_tag": "ABX9TyNBLfwekvd4ThdVN/0wADK6",
      "include_colab_link": true
    },
    "kernelspec": {
      "name": "python3",
      "display_name": "Python 3"
    },
    "language_info": {
      "name": "python"
    }
  },
  "cells": [
    {
      "cell_type": "markdown",
      "metadata": {
        "id": "view-in-github",
        "colab_type": "text"
      },
      "source": [
        "<a href=\"https://colab.research.google.com/github/HarshitSharma71/Natural-Language-Processing/blob/main/08082025.ipynb\" target=\"_parent\"><img src=\"https://colab.research.google.com/assets/colab-badge.svg\" alt=\"Open In Colab\"/></a>"
      ]
    },
    {
      "cell_type": "markdown",
      "source": [
        "\n",
        "\n",
        "*  Name: Harshit Sharma\n",
        "   \n",
        "*   Enrollment Number: S25MCAG0077\n",
        "\n"
      ],
      "metadata": {
        "id": "_iKMME8qVAST"
      }
    },
    {
      "cell_type": "code",
      "source": [
        "#  1.\tTo find a URL in a sentence:\n",
        "# example=\"I love spending time at https://www.xy123z.com/\"\n",
        "import re\n",
        "\n",
        "example = \"I love spending time at https://www.xy123z.com/\"\n",
        "url = re.findall(r'https?://\\S+', example)\n",
        "print(url)\n"
      ],
      "metadata": {
        "colab": {
          "base_uri": "https://localhost:8080/"
        },
        "id": "MATfw9WWVOnp",
        "outputId": "3f03c566-73e7-4c32-b0d1-8c67a9417890"
      },
      "execution_count": 9,
      "outputs": [
        {
          "output_type": "stream",
          "name": "stdout",
          "text": [
            "['https://www.xy123z.com/']\n"
          ]
        }
      ]
    },
    {
      "cell_type": "code",
      "source": [
        "# 2.\tGet email id from the sentence:\n",
        "# a.\tExample=\"My email id is xyz111@gmail.com\"\n",
        "import re\n",
        "\n",
        "example = \"My email id is xyz111@gmail.com\"\n",
        "email = re.findall(r'\\S+@\\S+', example)\n",
        "\n",
        "print(email)\n"
      ],
      "metadata": {
        "colab": {
          "base_uri": "https://localhost:8080/"
        },
        "id": "eHiVzrilVdtD",
        "outputId": "f0cf5e3f-2c4b-4aef-adc9-c5ecb0e6577f"
      },
      "execution_count": 4,
      "outputs": [
        {
          "output_type": "stream",
          "name": "stdout",
          "text": [
            "['xyz111@gmail.com']\n"
          ]
        }
      ]
    },
    {
      "cell_type": "code",
      "source": [
        "# 3.\tTo find the hashtags:\n",
        "# a.\t#Sushant is trending now in the world.\n",
        "import re\n",
        "example = \"#Sushant is trending now in the world.\"\n",
        "hashtag = re.findall(r'#\\S+', example)\n",
        "\n",
        "print(hashtag)\n"
      ],
      "metadata": {
        "id": "PFtBzUXIV1gn"
      },
      "execution_count": null,
      "outputs": []
    },
    {
      "cell_type": "code",
      "source": [
        "# 4.\tTo find the mentions in a sentence: @ – This symbol is used to mention someone in tweets. So, to extract words associated with @ symbol use this code:\n",
        "# a.\texample=\"@Ajit, please help me\"\n",
        "import re\n",
        "example = \"@Ajit, please help me\"\n",
        "mention = re.findall(r'@\\S+', example)\n",
        "\n",
        "print(mention)\n"
      ],
      "metadata": {
        "colab": {
          "base_uri": "https://localhost:8080/"
        },
        "id": "ZAeTS-0gWzUQ",
        "outputId": "a2f88c1b-2589-470b-97e2-5ea6532eef45"
      },
      "execution_count": 5,
      "outputs": [
        {
          "output_type": "stream",
          "name": "stdout",
          "text": [
            "['@Ajit,']\n"
          ]
        }
      ]
    },
    {
      "cell_type": "code",
      "source": [
        "# 5.\tTo find numbers in a sentence:\n",
        "# a.\texample=\"8853147 sq. km of area washed away in floods\"/\n",
        "import re\n",
        "example = \"8853147 sq. km of area washed away in floods\"\n",
        "number = re.findall(r'\\d+', example)\n",
        "\n",
        "print(number)\n"
      ],
      "metadata": {
        "colab": {
          "base_uri": "https://localhost:8080/"
        },
        "id": "e3i-973OX1H1",
        "outputId": "30b18c9b-94ee-48ce-ea3c-7776837d6f8d"
      },
      "execution_count": 6,
      "outputs": [
        {
          "output_type": "stream",
          "name": "stdout",
          "text": [
            "['8853147']\n"
          ]
        }
      ]
    },
    {
      "cell_type": "code",
      "source": [
        "# 6.\tTo find punctuations in a sentence:\n",
        "# a.\texample=\"Corona virus killed #24506 people. #Corona is un(tolerable)\"\n",
        "import re\n",
        "example = \"Corona virus killed #24506 people. #Corona is un(tolerable)\"\n",
        "punctuation = re.findall(r'[^\\w\\s]', example)\n",
        "\n",
        "print(punctuation)\n"
      ],
      "metadata": {
        "colab": {
          "base_uri": "https://localhost:8080/"
        },
        "id": "6H0dL-9hX9H8",
        "outputId": "e4fb2fc3-ceb5-4f3e-fac0-f1a0e45811bc"
      },
      "execution_count": 10,
      "outputs": [
        {
          "output_type": "stream",
          "name": "stdout",
          "text": [
            "['#', '.', '#', '(', ')']\n"
          ]
        }
      ]
    },
    {
      "cell_type": "code",
      "source": [
        "# 7.\tTo Validate PAN Number use the below code: Format: First 5 letters in CAPS+4 digits+Last letter in CAPS\n",
        "# a.\tExample1: \"ABCED3193P\"\n",
        "# b.\tExample2: \"lEcGD012eg\n",
        "import re\n",
        "example1 = \"ABCED3193P\"\n",
        "example2 = \"lEcGD012eg\"\n",
        "pan_number = re.findall(r'^[A-Z]{5}[0-9]{4}[A-Z]$', example1)\n",
        "print(pan_number)\n",
        "pan_number = re.findall(r'^[A-Z]{5}[0-9]{4}[A-Z]$', example2)\n",
        "print(pan_number)\n",
        "\n"
      ],
      "metadata": {
        "colab": {
          "base_uri": "https://localhost:8080/"
        },
        "id": "u9tAZQEoYgd_",
        "outputId": "974949ab-1434-47a4-d2ba-3a99f6a57c6a"
      },
      "execution_count": 11,
      "outputs": [
        {
          "output_type": "stream",
          "name": "stdout",
          "text": [
            "['ABCED3193P']\n",
            "[]\n"
          ]
        }
      ]
    },
    {
      "cell_type": "code",
      "source": [
        "# 8.\tRemove repetitive characters from sentence:\n",
        "# a.\texample=\"heyyy this is a verrrry loong texttt\"\n",
        "import re\n",
        "example = \"heyyy this is a verrrry loong texttt\"\n",
        "repetitive_characters = re.sub(r'(.)\\1+', r'\\1', example)\n",
        "\n",
        "print(repetitive_characters)\n",
        "\n"
      ],
      "metadata": {
        "colab": {
          "base_uri": "https://localhost:8080/"
        },
        "id": "biZGRuZ9a0GW",
        "outputId": "a77a1d0b-da25-43eb-9678-5942207c1d58"
      },
      "execution_count": 12,
      "outputs": [
        {
          "output_type": "stream",
          "name": "stdout",
          "text": [
            "hey this is a very long text\n"
          ]
        }
      ]
    },
    {
      "cell_type": "code",
      "source": [
        "# 9.\tTo find Indian mobile numbers:\n",
        "# a.\tExample= \"9990001796 is a phone number of PMO office\"\n",
        "import re\n",
        "\n",
        "example = \"9990001796 is a phone number of PMO office\"\n",
        "\n",
        "# Regex pattern for Indian mobile numbers starting with 7, 8, or 9\n",
        "pattern = r'\\b[789]\\d{9}\\b'\n",
        "\n",
        "# Find all matching numbers\n",
        "matches = re.findall(pattern, example)\n",
        "\n",
        "print(\"Found mobile numbers:\", matches)\n",
        "\n",
        "\n"
      ],
      "metadata": {
        "colab": {
          "base_uri": "https://localhost:8080/"
        },
        "id": "AdLr5wAUcYhk",
        "outputId": "1e0bb427-255c-48e9-e08a-1fe2a8c3791d"
      },
      "execution_count": 13,
      "outputs": [
        {
          "output_type": "stream",
          "name": "stdout",
          "text": [
            "Found mobile numbers: ['9990001796']\n"
          ]
        }
      ]
    },
    {
      "cell_type": "code",
      "source": [
        "# 10.\tExtract words starting with a capital letter from the input text.\n",
        "# a.\texample=\"Ajit Doval is the best National Security Advisor so far.\"\n",
        "import re\n",
        "\n",
        "example = \"Ajit Doval is the best National Security Advisor so far.\"\n",
        "\n",
        "\n",
        "capital_words = re.findall(r'\\b[A-Z][a-z]*\\b', example)\n",
        "\n",
        "print(\"Words starting with a capital letter:\", capital_words)\n",
        "\n",
        "\n"
      ],
      "metadata": {
        "colab": {
          "base_uri": "https://localhost:8080/"
        },
        "id": "DjysOlyqc-fu",
        "outputId": "ec204324-ddfc-49c3-ac5f-a7506368db73"
      },
      "execution_count": 17,
      "outputs": [
        {
          "output_type": "stream",
          "name": "stdout",
          "text": [
            "Words starting with a capital letter: ['Ajit', 'Doval', 'National', 'Security', 'Advisor']\n"
          ]
        }
      ]
    }
  ]
}